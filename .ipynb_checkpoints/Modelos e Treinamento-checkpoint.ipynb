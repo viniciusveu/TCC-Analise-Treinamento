{
 "cells": [
  {
   "cell_type": "code",
   "execution_count": 95,
   "id": "7ad6552d",
   "metadata": {},
   "outputs": [
    {
     "name": "stdout",
     "output_type": "stream",
     "text": [
      "Requirement already satisfied: catboost in c:\\users\\vinicius.vedovotto\\anaconda3\\lib\\site-packages (1.0.3)\n",
      "Requirement already satisfied: pandas>=0.24.0 in c:\\users\\vinicius.vedovotto\\anaconda3\\lib\\site-packages (from catboost) (1.3.4)\n",
      "Requirement already satisfied: graphviz in c:\\users\\vinicius.vedovotto\\anaconda3\\lib\\site-packages (from catboost) (0.19.1)\n",
      "Requirement already satisfied: numpy>=1.16.0 in c:\\users\\vinicius.vedovotto\\anaconda3\\lib\\site-packages (from catboost) (1.20.3)\n",
      "Requirement already satisfied: matplotlib in c:\\users\\vinicius.vedovotto\\anaconda3\\lib\\site-packages (from catboost) (3.4.3)\n",
      "Requirement already satisfied: plotly in c:\\users\\vinicius.vedovotto\\anaconda3\\lib\\site-packages (from catboost) (5.4.0)\n",
      "Requirement already satisfied: six in c:\\users\\vinicius.vedovotto\\anaconda3\\lib\\site-packages (from catboost) (1.16.0)\n",
      "Requirement already satisfied: scipy in c:\\users\\vinicius.vedovotto\\anaconda3\\lib\\site-packages (from catboost) (1.7.1)\n",
      "Requirement already satisfied: python-dateutil>=2.7.3 in c:\\users\\vinicius.vedovotto\\anaconda3\\lib\\site-packages (from pandas>=0.24.0->catboost) (2.8.2)\n",
      "Requirement already satisfied: pytz>=2017.3 in c:\\users\\vinicius.vedovotto\\anaconda3\\lib\\site-packages (from pandas>=0.24.0->catboost) (2021.3)\n",
      "Requirement already satisfied: pillow>=6.2.0 in c:\\users\\vinicius.vedovotto\\anaconda3\\lib\\site-packages (from matplotlib->catboost) (8.4.0)\n",
      "Requirement already satisfied: cycler>=0.10 in c:\\users\\vinicius.vedovotto\\anaconda3\\lib\\site-packages (from matplotlib->catboost) (0.10.0)\n",
      "Requirement already satisfied: kiwisolver>=1.0.1 in c:\\users\\vinicius.vedovotto\\anaconda3\\lib\\site-packages (from matplotlib->catboost) (1.3.1)\n",
      "Requirement already satisfied: pyparsing>=2.2.1 in c:\\users\\vinicius.vedovotto\\anaconda3\\lib\\site-packages (from matplotlib->catboost) (3.0.4)\n",
      "Requirement already satisfied: tenacity>=6.2.0 in c:\\users\\vinicius.vedovotto\\anaconda3\\lib\\site-packages (from plotly->catboost) (8.0.1)\n",
      "Requirement already satisfied: xgboost in c:\\users\\vinicius.vedovotto\\anaconda3\\lib\\site-packages (1.5.2)\n",
      "Requirement already satisfied: scipy in c:\\users\\vinicius.vedovotto\\anaconda3\\lib\\site-packages (from xgboost) (1.7.1)\n",
      "Requirement already satisfied: numpy in c:\\users\\vinicius.vedovotto\\anaconda3\\lib\\site-packages (from xgboost) (1.20.3)\n"
     ]
    }
   ],
   "source": [
    "# installs\n",
    "!pip install catboost\n",
    "!pip install xgboost\n",
    "\n",
    "# imports\n",
    "import pandas as pd\n",
    "import numpy as np\n",
    "import shap\n",
    "from sklearn.model_selection import cross_val_score, train_test_split, KFold\n",
    "from sklearn.pipeline import make_pipeline\n",
    "from sklearn.preprocessing import StandardScaler, LabelEncoder\n",
    "\n",
    "from sklearn.ensemble import RandomForestClassifier\n",
    "from xgboost import XGBClassifier\n",
    "import catboost as cb \n",
    "from catboost.datasets import *\n",
    "from sklearn.svm import SVC\n",
    "from sklearn.naive_bayes import GaussianNB\n",
    "from sklearn.neighbors import KNeighborsClassifier"
   ]
  },
  {
   "cell_type": "code",
   "execution_count": 50,
   "id": "ecdb7c15",
   "metadata": {},
   "outputs": [],
   "source": [
    "def intervalo(results):\n",
    "    mean = results.mean()\n",
    "    dv = results.std()\n",
    "    print('Acurácia média: {:.2f}%'.format(mean*100))\n",
    "    print('Intervalo de acurácia: [{:.2f}% ~ {:.2f}%]'\n",
    "           .format((mean - 2*dv)*100, (mean + 2*dv)*100))\n",
    "    \n",
    "cv = KFold(n_splits = 5, shuffle = True)"
   ]
  },
  {
   "cell_type": "code",
   "execution_count": 85,
   "id": "afd95967",
   "metadata": {},
   "outputs": [],
   "source": [
    "SEED = 10"
   ]
  },
  {
   "cell_type": "code",
   "execution_count": 2,
   "id": "5e1e7007",
   "metadata": {},
   "outputs": [
    {
     "data": {
      "text/html": [
       "<div>\n",
       "<style scoped>\n",
       "    .dataframe tbody tr th:only-of-type {\n",
       "        vertical-align: middle;\n",
       "    }\n",
       "\n",
       "    .dataframe tbody tr th {\n",
       "        vertical-align: top;\n",
       "    }\n",
       "\n",
       "    .dataframe thead th {\n",
       "        text-align: right;\n",
       "    }\n",
       "</style>\n",
       "<table border=\"1\" class=\"dataframe\">\n",
       "  <thead>\n",
       "    <tr style=\"text-align: right;\">\n",
       "      <th></th>\n",
       "      <th>CO_PROFESSOR</th>\n",
       "      <th>TX_RESP_Q001</th>\n",
       "      <th>TX_RESP_Q002</th>\n",
       "      <th>TX_RESP_Q003</th>\n",
       "      <th>TX_RESP_Q004</th>\n",
       "      <th>TX_RESP_Q005</th>\n",
       "      <th>TX_RESP_Q006</th>\n",
       "      <th>TX_RESP_Q007</th>\n",
       "      <th>TX_RESP_Q008</th>\n",
       "      <th>TX_RESP_Q009</th>\n",
       "      <th>...</th>\n",
       "      <th>TX_RESP_Q118</th>\n",
       "      <th>TX_RESP_Q119</th>\n",
       "      <th>TX_RESP_Q120</th>\n",
       "      <th>TX_RESP_Q121</th>\n",
       "      <th>TX_RESP_Q122</th>\n",
       "      <th>TX_RESP_Q123</th>\n",
       "      <th>TX_RESP_Q124</th>\n",
       "      <th>TX_RESP_Q125</th>\n",
       "      <th>PercentagemAlunosAcimaDaMediaNoEstado</th>\n",
       "      <th>classe</th>\n",
       "    </tr>\n",
       "  </thead>\n",
       "  <tbody>\n",
       "    <tr>\n",
       "      <th>0</th>\n",
       "      <td>2017453657</td>\n",
       "      <td>1</td>\n",
       "      <td>5</td>\n",
       "      <td>0</td>\n",
       "      <td>5.0</td>\n",
       "      <td>4</td>\n",
       "      <td>1</td>\n",
       "      <td>1</td>\n",
       "      <td>0</td>\n",
       "      <td>0</td>\n",
       "      <td>...</td>\n",
       "      <td>10</td>\n",
       "      <td>10</td>\n",
       "      <td>5</td>\n",
       "      <td>5</td>\n",
       "      <td>5</td>\n",
       "      <td>3</td>\n",
       "      <td>5</td>\n",
       "      <td>4</td>\n",
       "      <td>65.217391</td>\n",
       "      <td>1.0</td>\n",
       "    </tr>\n",
       "    <tr>\n",
       "      <th>1</th>\n",
       "      <td>2017034727</td>\n",
       "      <td>1</td>\n",
       "      <td>5</td>\n",
       "      <td>0</td>\n",
       "      <td>5.0</td>\n",
       "      <td>4</td>\n",
       "      <td>1</td>\n",
       "      <td>1</td>\n",
       "      <td>0</td>\n",
       "      <td>0</td>\n",
       "      <td>...</td>\n",
       "      <td>10</td>\n",
       "      <td>10</td>\n",
       "      <td>5</td>\n",
       "      <td>5</td>\n",
       "      <td>5</td>\n",
       "      <td>3</td>\n",
       "      <td>5</td>\n",
       "      <td>4</td>\n",
       "      <td>65.217391</td>\n",
       "      <td>1.0</td>\n",
       "    </tr>\n",
       "    <tr>\n",
       "      <th>2</th>\n",
       "      <td>2017027713</td>\n",
       "      <td>1</td>\n",
       "      <td>5</td>\n",
       "      <td>0</td>\n",
       "      <td>5.0</td>\n",
       "      <td>4</td>\n",
       "      <td>1</td>\n",
       "      <td>1</td>\n",
       "      <td>0</td>\n",
       "      <td>0</td>\n",
       "      <td>...</td>\n",
       "      <td>10</td>\n",
       "      <td>10</td>\n",
       "      <td>5</td>\n",
       "      <td>5</td>\n",
       "      <td>5</td>\n",
       "      <td>3</td>\n",
       "      <td>5</td>\n",
       "      <td>4</td>\n",
       "      <td>65.217391</td>\n",
       "      <td>1.0</td>\n",
       "    </tr>\n",
       "    <tr>\n",
       "      <th>3</th>\n",
       "      <td>2017176352</td>\n",
       "      <td>1</td>\n",
       "      <td>2</td>\n",
       "      <td>0</td>\n",
       "      <td>5.0</td>\n",
       "      <td>2</td>\n",
       "      <td>4</td>\n",
       "      <td>1</td>\n",
       "      <td>3</td>\n",
       "      <td>3</td>\n",
       "      <td>...</td>\n",
       "      <td>10</td>\n",
       "      <td>10</td>\n",
       "      <td>5</td>\n",
       "      <td>5</td>\n",
       "      <td>5</td>\n",
       "      <td>4</td>\n",
       "      <td>5</td>\n",
       "      <td>5</td>\n",
       "      <td>80.000000</td>\n",
       "      <td>1.0</td>\n",
       "    </tr>\n",
       "    <tr>\n",
       "      <th>4</th>\n",
       "      <td>2017439308</td>\n",
       "      <td>1</td>\n",
       "      <td>4</td>\n",
       "      <td>0</td>\n",
       "      <td>5.0</td>\n",
       "      <td>4</td>\n",
       "      <td>1</td>\n",
       "      <td>1</td>\n",
       "      <td>2</td>\n",
       "      <td>3</td>\n",
       "      <td>...</td>\n",
       "      <td>10</td>\n",
       "      <td>10</td>\n",
       "      <td>5</td>\n",
       "      <td>5</td>\n",
       "      <td>5</td>\n",
       "      <td>3</td>\n",
       "      <td>5</td>\n",
       "      <td>5</td>\n",
       "      <td>76.000000</td>\n",
       "      <td>1.0</td>\n",
       "    </tr>\n",
       "    <tr>\n",
       "      <th>...</th>\n",
       "      <td>...</td>\n",
       "      <td>...</td>\n",
       "      <td>...</td>\n",
       "      <td>...</td>\n",
       "      <td>...</td>\n",
       "      <td>...</td>\n",
       "      <td>...</td>\n",
       "      <td>...</td>\n",
       "      <td>...</td>\n",
       "      <td>...</td>\n",
       "      <td>...</td>\n",
       "      <td>...</td>\n",
       "      <td>...</td>\n",
       "      <td>...</td>\n",
       "      <td>...</td>\n",
       "      <td>...</td>\n",
       "      <td>...</td>\n",
       "      <td>...</td>\n",
       "      <td>...</td>\n",
       "      <td>...</td>\n",
       "      <td>...</td>\n",
       "    </tr>\n",
       "    <tr>\n",
       "      <th>10431</th>\n",
       "      <td>2017055740</td>\n",
       "      <td>1</td>\n",
       "      <td>3</td>\n",
       "      <td>0</td>\n",
       "      <td>5.0</td>\n",
       "      <td>4</td>\n",
       "      <td>3</td>\n",
       "      <td>1</td>\n",
       "      <td>1</td>\n",
       "      <td>0</td>\n",
       "      <td>...</td>\n",
       "      <td>10</td>\n",
       "      <td>10</td>\n",
       "      <td>5</td>\n",
       "      <td>5</td>\n",
       "      <td>5</td>\n",
       "      <td>2</td>\n",
       "      <td>5</td>\n",
       "      <td>3</td>\n",
       "      <td>24.000000</td>\n",
       "      <td>0.0</td>\n",
       "    </tr>\n",
       "    <tr>\n",
       "      <th>10432</th>\n",
       "      <td>2017013304</td>\n",
       "      <td>1</td>\n",
       "      <td>3</td>\n",
       "      <td>0</td>\n",
       "      <td>5.0</td>\n",
       "      <td>4</td>\n",
       "      <td>3</td>\n",
       "      <td>1</td>\n",
       "      <td>1</td>\n",
       "      <td>0</td>\n",
       "      <td>...</td>\n",
       "      <td>10</td>\n",
       "      <td>10</td>\n",
       "      <td>5</td>\n",
       "      <td>5</td>\n",
       "      <td>5</td>\n",
       "      <td>2</td>\n",
       "      <td>5</td>\n",
       "      <td>3</td>\n",
       "      <td>24.000000</td>\n",
       "      <td>0.0</td>\n",
       "    </tr>\n",
       "    <tr>\n",
       "      <th>10433</th>\n",
       "      <td>2017283080</td>\n",
       "      <td>1</td>\n",
       "      <td>3</td>\n",
       "      <td>0</td>\n",
       "      <td>5.0</td>\n",
       "      <td>4</td>\n",
       "      <td>3</td>\n",
       "      <td>1</td>\n",
       "      <td>1</td>\n",
       "      <td>0</td>\n",
       "      <td>...</td>\n",
       "      <td>10</td>\n",
       "      <td>10</td>\n",
       "      <td>5</td>\n",
       "      <td>5</td>\n",
       "      <td>5</td>\n",
       "      <td>2</td>\n",
       "      <td>5</td>\n",
       "      <td>3</td>\n",
       "      <td>24.000000</td>\n",
       "      <td>0.0</td>\n",
       "    </tr>\n",
       "    <tr>\n",
       "      <th>10434</th>\n",
       "      <td>2017290546</td>\n",
       "      <td>1</td>\n",
       "      <td>4</td>\n",
       "      <td>0</td>\n",
       "      <td>5.0</td>\n",
       "      <td>4</td>\n",
       "      <td>1</td>\n",
       "      <td>1</td>\n",
       "      <td>2</td>\n",
       "      <td>3</td>\n",
       "      <td>...</td>\n",
       "      <td>10</td>\n",
       "      <td>10</td>\n",
       "      <td>5</td>\n",
       "      <td>5</td>\n",
       "      <td>5</td>\n",
       "      <td>4</td>\n",
       "      <td>5</td>\n",
       "      <td>4</td>\n",
       "      <td>14.285714</td>\n",
       "      <td>0.0</td>\n",
       "    </tr>\n",
       "    <tr>\n",
       "      <th>10435</th>\n",
       "      <td>2017042158</td>\n",
       "      <td>0</td>\n",
       "      <td>4</td>\n",
       "      <td>2</td>\n",
       "      <td>5.0</td>\n",
       "      <td>3</td>\n",
       "      <td>1</td>\n",
       "      <td>1</td>\n",
       "      <td>0</td>\n",
       "      <td>0</td>\n",
       "      <td>...</td>\n",
       "      <td>10</td>\n",
       "      <td>10</td>\n",
       "      <td>5</td>\n",
       "      <td>5</td>\n",
       "      <td>5</td>\n",
       "      <td>3</td>\n",
       "      <td>5</td>\n",
       "      <td>4</td>\n",
       "      <td>33.333333</td>\n",
       "      <td>0.0</td>\n",
       "    </tr>\n",
       "  </tbody>\n",
       "</table>\n",
       "<p>10436 rows × 128 columns</p>\n",
       "</div>"
      ],
      "text/plain": [
       "       CO_PROFESSOR  TX_RESP_Q001  TX_RESP_Q002  TX_RESP_Q003  TX_RESP_Q004  \\\n",
       "0        2017453657             1             5             0           5.0   \n",
       "1        2017034727             1             5             0           5.0   \n",
       "2        2017027713             1             5             0           5.0   \n",
       "3        2017176352             1             2             0           5.0   \n",
       "4        2017439308             1             4             0           5.0   \n",
       "...             ...           ...           ...           ...           ...   \n",
       "10431    2017055740             1             3             0           5.0   \n",
       "10432    2017013304             1             3             0           5.0   \n",
       "10433    2017283080             1             3             0           5.0   \n",
       "10434    2017290546             1             4             0           5.0   \n",
       "10435    2017042158             0             4             2           5.0   \n",
       "\n",
       "       TX_RESP_Q005  TX_RESP_Q006  TX_RESP_Q007  TX_RESP_Q008  TX_RESP_Q009  \\\n",
       "0                 4             1             1             0             0   \n",
       "1                 4             1             1             0             0   \n",
       "2                 4             1             1             0             0   \n",
       "3                 2             4             1             3             3   \n",
       "4                 4             1             1             2             3   \n",
       "...             ...           ...           ...           ...           ...   \n",
       "10431             4             3             1             1             0   \n",
       "10432             4             3             1             1             0   \n",
       "10433             4             3             1             1             0   \n",
       "10434             4             1             1             2             3   \n",
       "10435             3             1             1             0             0   \n",
       "\n",
       "       ...  TX_RESP_Q118  TX_RESP_Q119  TX_RESP_Q120  TX_RESP_Q121  \\\n",
       "0      ...            10            10             5             5   \n",
       "1      ...            10            10             5             5   \n",
       "2      ...            10            10             5             5   \n",
       "3      ...            10            10             5             5   \n",
       "4      ...            10            10             5             5   \n",
       "...    ...           ...           ...           ...           ...   \n",
       "10431  ...            10            10             5             5   \n",
       "10432  ...            10            10             5             5   \n",
       "10433  ...            10            10             5             5   \n",
       "10434  ...            10            10             5             5   \n",
       "10435  ...            10            10             5             5   \n",
       "\n",
       "       TX_RESP_Q122  TX_RESP_Q123  TX_RESP_Q124  TX_RESP_Q125  \\\n",
       "0                 5             3             5             4   \n",
       "1                 5             3             5             4   \n",
       "2                 5             3             5             4   \n",
       "3                 5             4             5             5   \n",
       "4                 5             3             5             5   \n",
       "...             ...           ...           ...           ...   \n",
       "10431             5             2             5             3   \n",
       "10432             5             2             5             3   \n",
       "10433             5             2             5             3   \n",
       "10434             5             4             5             4   \n",
       "10435             5             3             5             4   \n",
       "\n",
       "       PercentagemAlunosAcimaDaMediaNoEstado  classe  \n",
       "0                                  65.217391     1.0  \n",
       "1                                  65.217391     1.0  \n",
       "2                                  65.217391     1.0  \n",
       "3                                  80.000000     1.0  \n",
       "4                                  76.000000     1.0  \n",
       "...                                      ...     ...  \n",
       "10431                              24.000000     0.0  \n",
       "10432                              24.000000     0.0  \n",
       "10433                              24.000000     0.0  \n",
       "10434                              14.285714     0.0  \n",
       "10435                              33.333333     0.0  \n",
       "\n",
       "[10436 rows x 128 columns]"
      ]
     },
     "execution_count": 2,
     "metadata": {},
     "output_type": "execute_result"
    }
   ],
   "source": [
    "df = pd.read_csv(r'./data/table_data.csv', sep=',')\n",
    "df"
   ]
  },
  {
   "cell_type": "code",
   "execution_count": 3,
   "id": "e19cd422",
   "metadata": {},
   "outputs": [],
   "source": [
    "# Acredita-se que a análise do perfil de professores cujos percentuais de alunos acima da média fossem superiores a 65% \n",
    "#(ou seja, classificados como \"Maior que 65%\") pode levantar alguns indicadores quanto as causas que influenciam \n",
    "#positivamente o processo de ensino-aprendizagem dos estudantes."
   ]
  },
  {
   "cell_type": "code",
   "execution_count": 4,
   "id": "860f1f5b",
   "metadata": {},
   "outputs": [
    {
     "data": {
      "text/plain": [
       "array([[1, 5, 0, ..., 3, 5, 4],\n",
       "       [1, 5, 0, ..., 3, 5, 4],\n",
       "       [1, 5, 0, ..., 3, 5, 4],\n",
       "       ...,\n",
       "       [1, 3, 0, ..., 2, 5, 3],\n",
       "       [1, 4, 0, ..., 4, 5, 4],\n",
       "       [0, 4, 2, ..., 3, 5, 4]])"
      ]
     },
     "execution_count": 4,
     "metadata": {},
     "output_type": "execute_result"
    }
   ],
   "source": [
    "# Criando a matriz X com os dados dos questionários de cada professor\n",
    "X = df.loc[:, 'TX_RESP_Q001':'TX_RESP_Q125'].values.astype(int)\n",
    "X"
   ]
  },
  {
   "cell_type": "code",
   "execution_count": 5,
   "id": "d8702714",
   "metadata": {},
   "outputs": [
    {
     "data": {
      "text/plain": [
       "array([[0.00019954, 0.00099772, 0.        , ..., 0.00059863, 0.00099772,\n",
       "        0.00079818],\n",
       "       [0.00019954, 0.00099772, 0.        , ..., 0.00059863, 0.00099772,\n",
       "        0.00079818],\n",
       "       [0.00019954, 0.00099772, 0.        , ..., 0.00059863, 0.00099772,\n",
       "        0.00079818],\n",
       "       ...,\n",
       "       [0.00019954, 0.00059863, 0.        , ..., 0.00039909, 0.00099772,\n",
       "        0.00059863],\n",
       "       [0.00019954, 0.00079818, 0.        , ..., 0.00079818, 0.00099772,\n",
       "        0.00079818],\n",
       "       [0.        , 0.00079818, 0.00039909, ..., 0.00059863, 0.00099772,\n",
       "        0.00079818]])"
      ]
     },
     "execution_count": 5,
     "metadata": {},
     "output_type": "execute_result"
    }
   ],
   "source": [
    "# normalizando os valores de X\n",
    "norm = np.linalg.norm(X)\n",
    "\n",
    "normal_X = X/norm\n",
    "\n",
    "normal_X"
   ]
  },
  {
   "cell_type": "code",
   "execution_count": 6,
   "id": "2ebe448d",
   "metadata": {},
   "outputs": [
    {
     "data": {
      "text/plain": [
       "array([1, 1, 1, ..., 0, 0, 0])"
      ]
     },
     "execution_count": 6,
     "metadata": {},
     "output_type": "execute_result"
    }
   ],
   "source": [
    "# Criando o array y com os valores da porcentagem de alunos com notas maiores que a média por professor \n",
    "y = df['classe'].values.astype(int)\n",
    "y"
   ]
  },
  {
   "cell_type": "code",
   "execution_count": 7,
   "id": "8e6dde4b",
   "metadata": {},
   "outputs": [],
   "source": [
    "# separando em conjuntos de teste e treino\n",
    "X_train, X_test, y_train, y_test = train_test_split(normal_X, y, test_size=0.2, random_state=0) "
   ]
  },
  {
   "cell_type": "code",
   "execution_count": null,
   "id": "a9dfd16d",
   "metadata": {},
   "outputs": [],
   "source": []
  },
  {
   "cell_type": "code",
   "execution_count": 8,
   "id": "925443c6",
   "metadata": {},
   "outputs": [],
   "source": [
    "## Modelos e Treinamento"
   ]
  },
  {
   "cell_type": "code",
   "execution_count": 9,
   "id": "ffbcb4a9",
   "metadata": {},
   "outputs": [],
   "source": [
    "#######################################################################################################################"
   ]
  },
  {
   "cell_type": "code",
   "execution_count": 10,
   "id": "f69be5ac",
   "metadata": {},
   "outputs": [],
   "source": [
    "# 1 - CatBoost Classifier"
   ]
  },
  {
   "cell_type": "code",
   "execution_count": 111,
   "id": "6d68db95",
   "metadata": {},
   "outputs": [
    {
     "name": "stdout",
     "output_type": "stream",
     "text": [
      "The best is iterator: 15 | learning_rate: 0.6 | depth: 7\n"
     ]
    }
   ],
   "source": [
    "# Criando e treinando modelo\n",
    "maior=0\n",
    "for iterator in [1, 2, 3, 4, 5, 6, 7, 8, 9, 10, 15]:\n",
    "    for learning_rate in [.1, .2, .3, .4, .5, .6, .7, .8, .9, 1]:\n",
    "        for depth in [2, 3, 4, 5, 6, 7]:\n",
    "            cat_boost_model = cb.CatBoostClassifier(iterations=iterator, learning_rate=learning_rate, depth=depth, verbose=False, loss_function='MultiClass')\n",
    "            cat_boost_model.fit(X_train, y_train)\n",
    "            score=cross_val_score(cat_boost_model, X_train, y_train, cv=cv)\n",
    "            \n",
    "            if maior < score.mean():\n",
    "                txt='iterator: {} | learning_rate: {} | depth: {}'.format(iterator, learning_rate, depth)\n",
    "                maior=score.mean()\n",
    "                            \n",
    "print('The best is {}'.format(txt))\n",
    "            "
   ]
  },
  {
   "cell_type": "code",
   "execution_count": 106,
   "id": "366782e1",
   "metadata": {},
   "outputs": [
    {
     "name": "stdout",
     "output_type": "stream",
     "text": [
      "Acurácia média: 90.50%\n",
      "Intervalo de acurácia: [89.64% ~ 91.36%]\n"
     ]
    }
   ],
   "source": [
    "cat_boost_model = cb.CatBoostClassifier(verbose=False, loss_function='MultiClass')\n",
    "cat_boost_model.fit(X_train, y_train)\n",
    "intervalo(cross_val_score(cat_boost_model, X_train, y_train, cv=cv))\n",
    "\n",
    "# Melhor modelo\n",
    "# iterator: 15 | learning_rate: 0.9 | depth: 7\n",
    "# Acurácia média: 82.83%\n",
    "# Intervalo de acurácia: [80.86% ~ 84.81%]"
   ]
  },
  {
   "cell_type": "markdown",
   "id": "9e74958d",
   "metadata": {},
   "source": []
  },
  {
   "cell_type": "code",
   "execution_count": 14,
   "id": "d9063b73",
   "metadata": {},
   "outputs": [],
   "source": [
    "# 2 - SVC - Support Vector Classifier"
   ]
  },
  {
   "cell_type": "code",
   "execution_count": 79,
   "id": "13b24b6b",
   "metadata": {},
   "outputs": [
    {
     "name": "stdout",
     "output_type": "stream",
     "text": [
      "Kernel: linear | Degree: 1\n",
      "Acurácia média: 54.49%\n",
      "Intervalo de acurácia: [54.20% ~ 54.78%]\n",
      "None\n",
      "Kernel: linear | Degree: 2\n",
      "Acurácia média: 54.49%\n",
      "Intervalo de acurácia: [52.68% ~ 56.31%]\n",
      "None\n",
      "Kernel: linear | Degree: 3\n",
      "Acurácia média: 54.49%\n",
      "Intervalo de acurácia: [51.94% ~ 57.04%]\n",
      "None\n",
      "Kernel: linear | Degree: 4\n",
      "Acurácia média: 54.49%\n",
      "Intervalo de acurácia: [51.26% ~ 57.73%]\n",
      "None\n",
      "Kernel: poly | Degree: 1\n",
      "Acurácia média: 72.05%\n",
      "Intervalo de acurácia: [69.66% ~ 74.45%]\n",
      "None\n",
      "Kernel: poly | Degree: 2\n",
      "Acurácia média: 74.84%\n",
      "Intervalo de acurácia: [71.85% ~ 77.84%]\n",
      "None\n",
      "Kernel: poly | Degree: 3\n",
      "Acurácia média: 77.00%\n",
      "Intervalo de acurácia: [75.41% ~ 78.59%]\n",
      "None\n",
      "Kernel: poly | Degree: 4\n",
      "Acurácia média: 79.26%\n",
      "Intervalo de acurácia: [77.42% ~ 81.11%]\n",
      "None\n",
      "Kernel: rbf | Degree: 1\n",
      "Acurácia média: 75.25%\n",
      "Intervalo de acurácia: [73.06% ~ 77.45%]\n",
      "None\n",
      "Kernel: rbf | Degree: 2\n",
      "Acurácia média: 75.44%\n",
      "Intervalo de acurácia: [74.52% ~ 76.36%]\n",
      "None\n",
      "Kernel: rbf | Degree: 3\n",
      "Acurácia média: 75.30%\n",
      "Intervalo de acurácia: [74.04% ~ 76.56%]\n",
      "None\n",
      "Kernel: rbf | Degree: 4\n",
      "Acurácia média: 75.55%\n",
      "Intervalo de acurácia: [73.56% ~ 77.54%]\n",
      "None\n",
      "Kernel: sigmoid | Degree: 1\n",
      "Acurácia média: 48.42%\n",
      "Intervalo de acurácia: [45.37% ~ 51.47%]\n",
      "None\n",
      "Kernel: sigmoid | Degree: 2\n",
      "Acurácia média: 48.45%\n",
      "Intervalo de acurácia: [46.15% ~ 50.76%]\n",
      "None\n",
      "Kernel: sigmoid | Degree: 3\n",
      "Acurácia média: 48.51%\n",
      "Intervalo de acurácia: [45.75% ~ 51.28%]\n",
      "None\n",
      "Kernel: sigmoid | Degree: 4\n",
      "Acurácia média: 48.43%\n",
      "Intervalo de acurácia: [47.18% ~ 49.68%]\n",
      "None\n"
     ]
    }
   ],
   "source": [
    "# Criando e treinando modelo\n",
    "kernels=['linear', 'poly', 'rbf', 'sigmoid']\n",
    "degrees=[1, 2, 3, 4]\n",
    "def svc_tests():\n",
    "    for kernel in kernels:\n",
    "        for degree in degrees:\n",
    "            svc_model = SVC(kernel=kernel, degree=degree)\n",
    "            svc_model.fit(X_train, y_train)\n",
    "            print('Kernel: {} | Degree: {}'.format(kernel, degree))\n",
    "            print(intervalo(cross_val_score(svc_model, X_train, y_train, cv=cv)))\n",
    "svc_tests()"
   ]
  },
  {
   "cell_type": "code",
   "execution_count": 84,
   "id": "7bfd62b9",
   "metadata": {},
   "outputs": [
    {
     "name": "stdout",
     "output_type": "stream",
     "text": [
      "Degree: 5\n",
      "Acurácia média: 80.43%\n",
      "Intervalo de acurácia: [78.98% ~ 81.87%]\n",
      "None\n",
      "Degree: 6\n",
      "Acurácia média: 81.82%\n",
      "Intervalo de acurácia: [81.35% ~ 82.28%]\n",
      "None\n",
      "Degree: 7\n",
      "Acurácia média: 83.07%\n",
      "Intervalo de acurácia: [81.71% ~ 84.43%]\n",
      "None\n",
      "Degree: 8\n",
      "Acurácia média: 83.56%\n",
      "Intervalo de acurácia: [82.35% ~ 84.78%]\n",
      "None\n",
      "Degree: 9\n",
      "Acurácia média: 84.30%\n",
      "Intervalo de acurácia: [83.30% ~ 85.29%]\n",
      "None\n"
     ]
    }
   ],
   "source": [
    "degrees=[5, 6, 7, 8, 9, 10]\n",
    "for degree in degrees:\n",
    "    svc_model = SVC(kernel='poly', degree=degree)\n",
    "    svc_model.fit(X_train, y_train)\n",
    "    print('Degree: {}'.format(degree))\n",
    "    print(intervalo(cross_val_score(svc_model, X_train, y_train, cv=cv)))"
   ]
  },
  {
   "cell_type": "code",
   "execution_count": null,
   "id": "3e9703c4",
   "metadata": {},
   "outputs": [],
   "source": [
    "# Melhor modelo:\n",
    "# Degree: 9\n",
    "# Acurácia média: 84.30%\n",
    "# Intervalo de acurácia: [83.30% ~ 85.29%]"
   ]
  },
  {
   "cell_type": "code",
   "execution_count": 18,
   "id": "017cb499",
   "metadata": {},
   "outputs": [],
   "source": [
    "#######################################################################################################################"
   ]
  },
  {
   "cell_type": "code",
   "execution_count": 19,
   "id": "1bdc8ac8",
   "metadata": {},
   "outputs": [],
   "source": [
    "# 3 - XGBoost Classifier"
   ]
  },
  {
   "cell_type": "code",
   "execution_count": 20,
   "id": "5c88bfd6",
   "metadata": {},
   "outputs": [
    {
     "name": "stdout",
     "output_type": "stream",
     "text": [
      "[18:14:30] WARNING: C:/Users/Administrator/workspace/xgboost-win64_release_1.5.1/src/learner.cc:1115: Starting in XGBoost 1.3.0, the default evaluation metric used with the objective 'binary:logistic' was changed from 'error' to 'logloss'. Explicitly set eval_metric if you'd like to restore the old behavior.\n"
     ]
    },
    {
     "data": {
      "text/plain": [
       "0.9137931034482759"
      ]
     },
     "execution_count": 20,
     "metadata": {},
     "output_type": "execute_result"
    }
   ],
   "source": [
    "# Criando e treinando modelo\n",
    "xg_boost_model = XGBClassifier(use_label_encoder=False)\n",
    "xg_boost_model.fit(X_train, y_train)"
   ]
  },
  {
   "cell_type": "code",
   "execution_count": 21,
   "id": "cbb170d1",
   "metadata": {},
   "outputs": [
    {
     "name": "stdout",
     "output_type": "stream",
     "text": [
      "[18:14:32] WARNING: C:/Users/Administrator/workspace/xgboost-win64_release_1.5.1/src/learner.cc:1115: Starting in XGBoost 1.3.0, the default evaluation metric used with the objective 'binary:logistic' was changed from 'error' to 'logloss'. Explicitly set eval_metric if you'd like to restore the old behavior.\n",
      "[18:14:33] WARNING: C:/Users/Administrator/workspace/xgboost-win64_release_1.5.1/src/learner.cc:1115: Starting in XGBoost 1.3.0, the default evaluation metric used with the objective 'binary:logistic' was changed from 'error' to 'logloss'. Explicitly set eval_metric if you'd like to restore the old behavior.\n",
      "[18:14:34] WARNING: C:/Users/Administrator/workspace/xgboost-win64_release_1.5.1/src/learner.cc:1115: Starting in XGBoost 1.3.0, the default evaluation metric used with the objective 'binary:logistic' was changed from 'error' to 'logloss'. Explicitly set eval_metric if you'd like to restore the old behavior.\n",
      "[18:14:34] WARNING: C:/Users/Administrator/workspace/xgboost-win64_release_1.5.1/src/learner.cc:1115: Starting in XGBoost 1.3.0, the default evaluation metric used with the objective 'binary:logistic' was changed from 'error' to 'logloss'. Explicitly set eval_metric if you'd like to restore the old behavior.\n",
      "[18:14:35] WARNING: C:/Users/Administrator/workspace/xgboost-win64_release_1.5.1/src/learner.cc:1115: Starting in XGBoost 1.3.0, the default evaluation metric used with the objective 'binary:logistic' was changed from 'error' to 'logloss'. Explicitly set eval_metric if you'd like to restore the old behavior.\n"
     ]
    },
    {
     "data": {
      "text/plain": [
       "array([0.784689  , 0.81578947, 0.78229665, 0.81534772, 0.79376499])"
      ]
     },
     "execution_count": 21,
     "metadata": {},
     "output_type": "execute_result"
    }
   ],
   "source": [
    "# Cross Validation\n",
    "scores = cross_val_score(xg_boost_model, X_train, y_train, cv=cv)\n",
    "scores"
   ]
  },
  {
   "cell_type": "code",
   "execution_count": 22,
   "id": "c6154766",
   "metadata": {},
   "outputs": [
    {
     "name": "stdout",
     "output_type": "stream",
     "text": [
      "0.80 accuracy with a standard deviation of 0.01\n"
     ]
    }
   ],
   "source": [
    "print(\"%0.2f accuracy with a standard deviation of %0.2f\" % (scores.mean(), scores.std())) # 0.80 accuracy with a standard deviation of 0.01"
   ]
  },
  {
   "cell_type": "code",
   "execution_count": 23,
   "id": "8c719325",
   "metadata": {},
   "outputs": [],
   "source": [
    "#######################################################################################################################"
   ]
  },
  {
   "cell_type": "code",
   "execution_count": 24,
   "id": "ead17b06",
   "metadata": {},
   "outputs": [],
   "source": [
    "# 4 - Random Forest Classifier"
   ]
  },
  {
   "cell_type": "code",
   "execution_count": 88,
   "id": "9c7af07b",
   "metadata": {},
   "outputs": [
    {
     "name": "stdout",
     "output_type": "stream",
     "text": [
      "n_estimators: 10 | criterion: gini\n",
      "Acurácia média: 89.32%\n",
      "Intervalo de acurácia: [86.78% ~ 91.85%]\n",
      "None\n",
      "n_estimators: 25 | criterion: gini\n",
      "Acurácia média: 89.97%\n",
      "Intervalo de acurácia: [89.13% ~ 90.82%]\n",
      "None\n",
      "n_estimators: 50 | criterion: gini\n",
      "Acurácia média: 90.18%\n",
      "Intervalo de acurácia: [89.61% ~ 90.74%]\n",
      "None\n",
      "n_estimators: 100 | criterion: gini\n",
      "Acurácia média: 90.23%\n",
      "Intervalo de acurácia: [88.50% ~ 91.95%]\n",
      "None\n",
      "n_estimators: 125 | criterion: gini\n",
      "Acurácia média: 90.03%\n",
      "Intervalo de acurácia: [88.40% ~ 91.67%]\n",
      "None\n",
      "n_estimators: 150 | criterion: gini\n",
      "Acurácia média: 89.94%\n",
      "Intervalo de acurácia: [87.86% ~ 92.02%]\n",
      "None\n",
      "n_estimators: 200 | criterion: gini\n",
      "Acurácia média: 90.30%\n",
      "Intervalo de acurácia: [89.05% ~ 91.55%]\n",
      "None\n",
      "n_estimators: 10 | criterion: entropy\n",
      "Acurácia média: 89.28%\n",
      "Intervalo de acurácia: [88.82% ~ 89.74%]\n",
      "None\n",
      "n_estimators: 25 | criterion: entropy\n",
      "Acurácia média: 90.12%\n",
      "Intervalo de acurácia: [88.44% ~ 91.79%]\n",
      "None\n",
      "n_estimators: 50 | criterion: entropy\n",
      "Acurácia média: 89.69%\n",
      "Intervalo de acurácia: [88.65% ~ 90.72%]\n",
      "None\n",
      "n_estimators: 100 | criterion: entropy\n",
      "Acurácia média: 90.27%\n",
      "Intervalo de acurácia: [89.19% ~ 91.36%]\n",
      "None\n",
      "n_estimators: 125 | criterion: entropy\n",
      "Acurácia média: 90.34%\n",
      "Intervalo de acurácia: [89.54% ~ 91.15%]\n",
      "None\n",
      "n_estimators: 150 | criterion: entropy\n",
      "Acurácia média: 89.84%\n",
      "Intervalo de acurácia: [88.72% ~ 90.97%]\n",
      "None\n",
      "n_estimators: 200 | criterion: entropy\n",
      "Acurácia média: 90.33%\n",
      "Intervalo de acurácia: [89.21% ~ 91.46%]\n",
      "None\n"
     ]
    }
   ],
   "source": [
    "# Criando e treinando modelo\n",
    "n_estimators=[10, 25, 50, 100, 125, 150, 200]\n",
    "criterions=['gini', 'entropy']\n",
    "\n",
    "def rf_test():\n",
    "    for criterion in criterions:\n",
    "       for estimator in n_estimators: \n",
    "            randon_forest_model = RandomForestClassifier(n_estimators=estimator, criterion=criterion, random_state=SEED)\n",
    "            randon_forest_model.fit(X_train, y_train)\n",
    "            \n",
    "            print('n_estimators: {} | criterion: {}'.format(estimator, criterion))\n",
    "            print(intervalo(cross_val_score(randon_forest_model, X_train, y_train, cv=cv)))\n",
    "            \n",
    "rf_test()\n"
   ]
  },
  {
   "cell_type": "code",
   "execution_count": 26,
   "id": "b3cfca69",
   "metadata": {},
   "outputs": [
    {
     "data": {
      "text/plain": [
       "array([0.78947368, 0.83253589, 0.784689  , 0.8057554 , 0.82254197])"
      ]
     },
     "execution_count": 26,
     "metadata": {},
     "output_type": "execute_result"
    }
   ],
   "source": [
    "# Melhor modelo: \n",
    "# n_estimators: 200 | criterion: entropy\n",
    "# Acurácia média: 90.33%\n",
    "# Intervalo de acurácia: [89.21% ~ 91.46%]"
   ]
  },
  {
   "cell_type": "code",
   "execution_count": 28,
   "id": "e74a6d7c",
   "metadata": {},
   "outputs": [],
   "source": [
    "#######################################################################################################################"
   ]
  },
  {
   "cell_type": "code",
   "execution_count": 29,
   "id": "a1850e73",
   "metadata": {},
   "outputs": [],
   "source": [
    "# 5 - Gaussian Naive Bayes"
   ]
  },
  {
   "cell_type": "code",
   "execution_count": 91,
   "id": "01082fbb",
   "metadata": {},
   "outputs": [
    {
     "data": {
      "text/plain": [
       "GaussianNB()"
      ]
     },
     "execution_count": 91,
     "metadata": {},
     "output_type": "execute_result"
    }
   ],
   "source": [
    "# Criando e treinando modelo\n",
    "gnb_model = GaussianNB()\n",
    "gnb_model.fit(X_train, y_train)"
   ]
  },
  {
   "cell_type": "code",
   "execution_count": 92,
   "id": "62ffec4d",
   "metadata": {},
   "outputs": [
    {
     "data": {
      "text/plain": [
       "array([0.55508982, 0.54311377, 0.57904192, 0.57878969, 0.55122828])"
      ]
     },
     "execution_count": 92,
     "metadata": {},
     "output_type": "execute_result"
    }
   ],
   "source": [
    "# Cross Validation\n",
    "scores = cross_val_score(gnb_model, X_train, y_train, cv=cv)\n",
    "scores"
   ]
  },
  {
   "cell_type": "code",
   "execution_count": 93,
   "id": "bb528753",
   "metadata": {},
   "outputs": [
    {
     "name": "stdout",
     "output_type": "stream",
     "text": [
      "0.56 accuracy with a standard deviation of 0.01\n"
     ]
    }
   ],
   "source": [
    "print(\"%0.2f accuracy with a standard deviation of %0.2f\" % (scores.mean(), scores.std())) # 0.58 accuracy with a standard deviation of 0.02"
   ]
  },
  {
   "cell_type": "code",
   "execution_count": 33,
   "id": "a63450e3",
   "metadata": {},
   "outputs": [],
   "source": [
    "#######################################################################################################################"
   ]
  },
  {
   "cell_type": "code",
   "execution_count": 34,
   "id": "452bfe6c",
   "metadata": {},
   "outputs": [],
   "source": [
    "# 6 - Nearest Neighbors"
   ]
  },
  {
   "cell_type": "code",
   "execution_count": 109,
   "id": "f2be31f7",
   "metadata": {},
   "outputs": [
    {
     "name": "stdout",
     "output_type": "stream",
     "text": [
      "Weights: uniform | n_neighbors: 10\n",
      "Acurácia média: 73.75%\n",
      "Intervalo de acurácia: [73.36% ~ 74.15%]\n",
      "None\n",
      "Weights: uniform | n_neighbors: 15\n",
      "Acurácia média: 72.68%\n",
      "Intervalo de acurácia: [70.24% ~ 75.12%]\n",
      "None\n",
      "Weights: uniform | n_neighbors: 20\n",
      "Acurácia média: 70.24%\n",
      "Intervalo de acurácia: [68.47% ~ 72.01%]\n",
      "None\n",
      "Weights: uniform | n_neighbors: 30\n",
      "Acurácia média: 68.72%\n",
      "Intervalo de acurácia: [66.05% ~ 71.40%]\n",
      "None\n",
      "Weights: uniform | n_neighbors: 40\n",
      "Acurácia média: 68.23%\n",
      "Intervalo de acurácia: [66.76% ~ 69.71%]\n",
      "None\n",
      "Weights: uniform | n_neighbors: 75\n",
      "Acurácia média: 67.02%\n",
      "Intervalo de acurácia: [63.91% ~ 70.13%]\n",
      "None\n",
      "Weights: uniform | n_neighbors: 100\n",
      "Acurácia média: 66.73%\n",
      "Intervalo de acurácia: [64.54% ~ 68.93%]\n",
      "None\n",
      "Weights: uniform | n_neighbors: 150\n",
      "Acurácia média: 65.91%\n",
      "Intervalo de acurácia: [63.85% ~ 67.97%]\n",
      "None\n",
      "Weights: uniform | n_neighbors: 180\n",
      "Acurácia média: 65.61%\n",
      "Intervalo de acurácia: [62.59% ~ 68.62%]\n",
      "None\n",
      "Weights: uniform | n_neighbors: 200\n",
      "Acurácia média: 66.12%\n",
      "Intervalo de acurácia: [64.75% ~ 67.49%]\n",
      "None\n",
      "Weights: distance | n_neighbors: 10\n",
      "Acurácia média: 87.37%\n",
      "Intervalo de acurácia: [85.08% ~ 89.66%]\n",
      "None\n",
      "Weights: distance | n_neighbors: 15\n",
      "Acurácia média: 87.36%\n",
      "Intervalo de acurácia: [86.58% ~ 88.14%]\n",
      "None\n",
      "Weights: distance | n_neighbors: 20\n",
      "Acurácia média: 87.43%\n",
      "Intervalo de acurácia: [86.06% ~ 88.81%]\n",
      "None\n",
      "Weights: distance | n_neighbors: 30\n",
      "Acurácia média: 87.31%\n",
      "Intervalo de acurácia: [86.82% ~ 87.81%]\n",
      "None\n",
      "Weights: distance | n_neighbors: 40\n",
      "Acurácia média: 87.94%\n",
      "Intervalo de acurácia: [86.83% ~ 89.05%]\n",
      "None\n",
      "Weights: distance | n_neighbors: 75\n",
      "Acurácia média: 87.72%\n",
      "Intervalo de acurácia: [86.62% ~ 88.82%]\n",
      "None\n",
      "Weights: distance | n_neighbors: 100\n",
      "Acurácia média: 87.78%\n",
      "Intervalo de acurácia: [87.01% ~ 88.55%]\n",
      "None\n",
      "Weights: distance | n_neighbors: 150\n",
      "Acurácia média: 88.06%\n",
      "Intervalo de acurácia: [86.71% ~ 89.40%]\n",
      "None\n",
      "Weights: distance | n_neighbors: 180\n",
      "Acurácia média: 87.81%\n",
      "Intervalo de acurácia: [86.51% ~ 89.10%]\n",
      "None\n",
      "Weights: distance | n_neighbors: 200\n",
      "Acurácia média: 88.10%\n",
      "Intervalo de acurácia: [87.55% ~ 88.66%]\n",
      "None\n"
     ]
    }
   ],
   "source": [
    "# Criando e treinando modelo\n",
    "\n",
    "for weights in [\"uniform\", \"distance\"]:\n",
    "    for n_neighbors in [10, 15, 20, 30, 40, 75, 100, 150, 180, 200]:\n",
    "        nn_model = KNeighborsClassifier(n_neighbors, weights=weights).fit(X_train, y_train)\n",
    "        print('Weights: {} | n_neighbors: {}'.format(weights, n_neighbors))\n",
    "        print(intervalo(cross_val_score(nn_model, X_train, y_train, cv=cv)))"
   ]
  },
  {
   "cell_type": "code",
   "execution_count": 36,
   "id": "845fbffb",
   "metadata": {},
   "outputs": [
    {
     "data": {
      "text/plain": [
       "array([0.5861244 , 0.57416268, 0.59808612, 0.58752998, 0.53477218])"
      ]
     },
     "execution_count": 36,
     "metadata": {},
     "output_type": "execute_result"
    }
   ],
   "source": [
    "# Melhor modelo:\n",
    "# Weights: distance | n_neighbors: 15\n",
    "# Acurácia média: 87.48% \n",
    "# Intervalo de acurácia: [84.60% ~ 90.37%]"
   ]
  },
  {
   "cell_type": "code",
   "execution_count": null,
   "id": "618a0990",
   "metadata": {},
   "outputs": [],
   "source": []
  },
  {
   "cell_type": "code",
   "execution_count": null,
   "id": "032ec619",
   "metadata": {},
   "outputs": [],
   "source": []
  },
  {
   "cell_type": "code",
   "execution_count": 38,
   "id": "2b6a7c75",
   "metadata": {},
   "outputs": [],
   "source": [
    "#######################################################################################################################"
   ]
  },
  {
   "cell_type": "code",
   "execution_count": 39,
   "id": "57b0cf2c",
   "metadata": {},
   "outputs": [],
   "source": [
    "# Melhor acurácia obtida foi no modelo \"randon_forest_model\" com acurácia média: 87.48% \n",
    "# Explicando o modelo com SHAP"
   ]
  },
  {
   "cell_type": "code",
   "execution_count": 40,
   "id": "81aa4e79",
   "metadata": {},
   "outputs": [],
   "source": [
    "feat_names = df.loc[:, 'TX_RESP_Q001':'TX_RESP_Q125'].columns.values"
   ]
  },
  {
   "cell_type": "code",
   "execution_count": 96,
   "id": "4484f1aa",
   "metadata": {},
   "outputs": [
    {
     "ename": "KeyboardInterrupt",
     "evalue": "",
     "output_type": "error",
     "traceback": [
      "\u001b[1;31m---------------------------------------------------------------------------\u001b[0m",
      "\u001b[1;31mKeyboardInterrupt\u001b[0m                         Traceback (most recent call last)",
      "\u001b[1;32mC:\\Users\\VINICI~1.VED\\AppData\\Local\\Temp/ipykernel_1316/1957424885.py\u001b[0m in \u001b[0;36m<module>\u001b[1;34m\u001b[0m\n\u001b[0;32m      4\u001b[0m \u001b[1;31m# calculate shap values. This is what we will plot.\u001b[0m\u001b[1;33m\u001b[0m\u001b[1;33m\u001b[0m\u001b[0m\n\u001b[0;32m      5\u001b[0m \u001b[1;31m# Calculate shap_values for all of X_test rather than a single row, to have more data for plot.\u001b[0m\u001b[1;33m\u001b[0m\u001b[1;33m\u001b[0m\u001b[0m\n\u001b[1;32m----> 6\u001b[1;33m \u001b[0mshap_values\u001b[0m \u001b[1;33m=\u001b[0m \u001b[0mexplainer\u001b[0m\u001b[1;33m.\u001b[0m\u001b[0mshap_values\u001b[0m\u001b[1;33m(\u001b[0m\u001b[0mX_test\u001b[0m\u001b[1;33m)\u001b[0m\u001b[1;33m\u001b[0m\u001b[1;33m\u001b[0m\u001b[0m\n\u001b[0m\u001b[0;32m      7\u001b[0m \u001b[1;33m\u001b[0m\u001b[0m\n\u001b[0;32m      8\u001b[0m \u001b[1;31m# Make plot. Index of [1] is explained in text below.\u001b[0m\u001b[1;33m\u001b[0m\u001b[1;33m\u001b[0m\u001b[0m\n",
      "\u001b[1;32m~\\Anaconda3\\lib\\site-packages\\shap\\explainers\\_tree.py\u001b[0m in \u001b[0;36mshap_values\u001b[1;34m(self, X, y, tree_limit, approximate, check_additivity, from_call)\u001b[0m\n\u001b[0;32m    404\u001b[0m             )\n\u001b[0;32m    405\u001b[0m \u001b[1;33m\u001b[0m\u001b[0m\n\u001b[1;32m--> 406\u001b[1;33m         \u001b[0mout\u001b[0m \u001b[1;33m=\u001b[0m \u001b[0mself\u001b[0m\u001b[1;33m.\u001b[0m\u001b[0m_get_shap_output\u001b[0m\u001b[1;33m(\u001b[0m\u001b[0mphi\u001b[0m\u001b[1;33m,\u001b[0m \u001b[0mflat_output\u001b[0m\u001b[1;33m)\u001b[0m\u001b[1;33m\u001b[0m\u001b[1;33m\u001b[0m\u001b[0m\n\u001b[0m\u001b[0;32m    407\u001b[0m         \u001b[1;32mif\u001b[0m \u001b[0mcheck_additivity\u001b[0m \u001b[1;32mand\u001b[0m \u001b[0mself\u001b[0m\u001b[1;33m.\u001b[0m\u001b[0mmodel\u001b[0m\u001b[1;33m.\u001b[0m\u001b[0mmodel_output\u001b[0m \u001b[1;33m==\u001b[0m \u001b[1;34m\"raw\"\u001b[0m\u001b[1;33m:\u001b[0m\u001b[1;33m\u001b[0m\u001b[1;33m\u001b[0m\u001b[0m\n\u001b[0;32m    408\u001b[0m             \u001b[0mself\u001b[0m\u001b[1;33m.\u001b[0m\u001b[0massert_additivity\u001b[0m\u001b[1;33m(\u001b[0m\u001b[0mout\u001b[0m\u001b[1;33m,\u001b[0m \u001b[0mself\u001b[0m\u001b[1;33m.\u001b[0m\u001b[0mmodel\u001b[0m\u001b[1;33m.\u001b[0m\u001b[0mpredict\u001b[0m\u001b[1;33m(\u001b[0m\u001b[0mX\u001b[0m\u001b[1;33m)\u001b[0m\u001b[1;33m)\u001b[0m\u001b[1;33m\u001b[0m\u001b[1;33m\u001b[0m\u001b[0m\n",
      "\u001b[1;31mKeyboardInterrupt\u001b[0m: "
     ]
    }
   ],
   "source": [
    "# Create object that can calculate shap values\n",
    "explainer = shap.TreeExplainer(randon_forest_model)\n",
    "\n",
    "# calculate shap values. This is what we will plot.\n",
    "# Calculate shap_values for all of X_test rather than a single row, to have more data for plot.\n",
    "shap_values = explainer.shap_values(X_test)\n",
    "\n",
    "# Make plot. Index of [1] is explained in text below.\n",
    "klass = 1\n",
    "shap.summary_plot(shap_values[klass], X_test, feature_names=feat_names)"
   ]
  },
  {
   "cell_type": "code",
   "execution_count": 42,
   "id": "e6e6e082",
   "metadata": {},
   "outputs": [
    {
     "data": {
      "image/png": "[encoded data removed]",
      "text/plain": [
       "<Figure size 576x684 with 2 Axes>"
      ]
     },
     "metadata": {
      "needs_background": "light"
     },
     "output_type": "display_data"
    }
   ],
   "source": [
    "# Create object that can calculate shap values\n",
    "explainer = shap.TreeExplainer(randon_forest_model)\n",
    "\n",
    "# calculate shap values. This is what we will plot.\n",
    "# Calculate shap_values for all of X_test rather than a single row, to have more data for plot.\n",
    "shap_values = explainer.shap_values(X_test)\n",
    "\n",
    "# Make plot. Index of [1] is explained in text below.\n",
    "klass = 0\n",
    "shap.summary_plot(shap_values[klass], X_test, feature_names=feat_names)"
   ]
  },
  {
   "cell_type": "code",
   "execution_count": null,
   "id": "5cf30d07",
   "metadata": {},
   "outputs": [],
   "source": []
  },
  {
   "cell_type": "code",
   "execution_count": null,
   "id": "b9071878",
   "metadata": {},
   "outputs": [],
   "source": []
  },
  {
   "cell_type": "code",
   "execution_count": null,
   "id": "b28fed4b",
   "metadata": {},
   "outputs": [],
   "source": []
  },
  {
   "cell_type": "code",
   "execution_count": null,
   "id": "e6a61029",
   "metadata": {},
   "outputs": [],
   "source": []
  },
  {
   "cell_type": "code",
   "execution_count": null,
   "id": "cc388762",
   "metadata": {},
   "outputs": [],
   "source": []
  },
  {
   "cell_type": "code",
   "execution_count": null,
   "id": "25ce25b8",
   "metadata": {},
   "outputs": [],
   "source": []
  },
  {
   "cell_type": "code",
   "execution_count": null,
   "id": "aa5332bc",
   "metadata": {},
   "outputs": [],
   "source": []
  },
  {
   "cell_type": "code",
   "execution_count": null,
   "id": "b5924c4c",
   "metadata": {},
   "outputs": [],
   "source": []
  },
  {
   "cell_type": "code",
   "execution_count": null,
   "id": "88260703",
   "metadata": {},
   "outputs": [],
   "source": []
  },
  {
   "cell_type": "code",
   "execution_count": null,
   "id": "1f0f8538",
   "metadata": {},
   "outputs": [],
   "source": []
  },
  {
   "cell_type": "code",
   "execution_count": null,
   "id": "8e3c70a2",
   "metadata": {},
   "outputs": [],
   "source": []
  },
  {
   "cell_type": "code",
   "execution_count": null,
   "id": "33ab819b",
   "metadata": {},
   "outputs": [],
   "source": []
  },
  {
   "cell_type": "code",
   "execution_count": null,
   "id": "73113941",
   "metadata": {},
   "outputs": [],
   "source": []
  },
  {
   "cell_type": "code",
   "execution_count": null,
   "id": "df02af70",
   "metadata": {},
   "outputs": [],
   "source": []
  }
 ],
 "metadata": {
  "kernelspec": {
   "display_name": "Python 3 (ipykernel)",
   "language": "python",
   "name": "python3"
  },
  "language_info": {
   "codemirror_mode": {
    "name": "ipython",
    "version": 3
   },
   "file_extension": ".py",
   "mimetype": "text/x-python",
   "name": "python",
   "nbconvert_exporter": "python",
   "pygments_lexer": "ipython3",
   "version": "3.9.7"
  }
 },
 "nbformat": 4,
 "nbformat_minor": 5
}
